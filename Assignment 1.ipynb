{
 "cells": [
  {
   "cell_type": "markdown",
   "id": "1d679f53",
   "metadata": {},
   "source": [
    "# Assignment 1\n",
    "# Matthew Wirasakti\n",
    "## Problem 1"
   ]
  },
  {
   "cell_type": "code",
   "execution_count": 319,
   "id": "89eeea4e",
   "metadata": {},
   "outputs": [],
   "source": [
    "from math import *\n",
    "from decimal import Decimal\n",
    "\n",
    "def p_root(value, root):\n",
    "    root_value = 1 / float(root)\n",
    "    return round (Decimal(value) ** Decimal(root_value), 6)\n",
    "\n",
    "# distance calculation\n",
    "def calculate_distance(row1,row2,distance_func=2):\n",
    "    row1,row2=row1[:-1],row2[:-1]# remove lables, i.e., last index\n",
    "    return float(p_root(sum(pow(abs(a-b), distance_func) for a, b in zip(row1, row2)), distance_func))"
   ]
  },
  {
   "cell_type": "code",
   "execution_count": 320,
   "id": "2d111b80",
   "metadata": {},
   "outputs": [
    {
     "name": "stdout",
     "output_type": "stream",
     "text": [
      "[0.0, 1.315733, 1.855399, 1.414746, 0.470933, 4.846452, 2.552043, 4.142812, 5.967218, 4.89447]\n"
     ]
    }
   ],
   "source": [
    "dataset = [\n",
    "    [2.7810836,2.550537003,0],[1.465489372,2.362125076,0],[3.396561688,4.400293529,0],\n",
    "    [1.38807019,1.850220317,0],[3.06407232,3.005305973,0],[7.627531214,2.759262235,1],\n",
    "    [5.332441248,2.088626775,1],[6.922596716,1.77106367,1],[8.675418651,-0.242068655,1],\n",
    "    [7.673756466,3.508563011,1]\n",
    "]\n",
    "\n",
    "# compute distance from data point at index 0\n",
    "row0 = dataset[0]\n",
    "\n",
    "distances = [calculate_distance(row0, row, 4) for row in dataset]\n",
    "print(distances)"
   ]
  },
  {
   "cell_type": "code",
   "execution_count": 321,
   "id": "8da42a01",
   "metadata": {},
   "outputs": [],
   "source": [
    "def get_neighbors(train, test_row, num_neighbors=3, distance_func=2):\n",
    "    # compute distances\n",
    "    distances = [(train_row, calculate_distance(test_row, train_row, distance_func)) for train_row in train]\n",
    "    # sort\n",
    "    distances.sort(key=lambda tup: tup[1])\n",
    "    # get top-k neighbors\n",
    "    neighbors = [distances[i][0]for i in range(num_neighbors)]\n",
    "    \n",
    "    return neighbors"
   ]
  },
  {
   "cell_type": "code",
   "execution_count": 322,
   "id": "ce06282f",
   "metadata": {},
   "outputs": [
    {
     "name": "stdout",
     "output_type": "stream",
     "text": [
      "[[2.7810836, 2.550537003, 0], [3.06407232, 3.005305973, 0], [1.465489372, 2.362125076, 0]]\n"
     ]
    }
   ],
   "source": [
    "# test get_get_neighbors function with top-3 neighbors\n",
    "neighbors = get_neighbors(dataset, row0, distance_func=3)\n",
    "print(neighbors)"
   ]
  },
  {
   "cell_type": "code",
   "execution_count": 323,
   "id": "b3e7c30c",
   "metadata": {},
   "outputs": [],
   "source": [
    "def predict_classification(train, test_row, num_neighbors=3, distance_func=2):\n",
    "    neighbors = get_neighbors(train, test_row, num_neighbors, distance_func)\n",
    "    output_values = [row[-1] for row in neighbors]\n",
    "    prediction = max(set(output_values), key=output_values.count)\n",
    "    return prediction"
   ]
  },
  {
   "cell_type": "code",
   "execution_count": 324,
   "id": "3628fcd5",
   "metadata": {},
   "outputs": [
    {
     "name": "stdout",
     "output_type": "stream",
     "text": [
      "Expected 0, Got 0.\n"
     ]
    }
   ],
   "source": [
    "# test prediction function\n",
    "prediction = predict_classification(dataset, row0)\n",
    "print('Expected %d, Got %d.' %(dataset[0][-1], prediction))"
   ]
  },
  {
   "cell_type": "code",
   "execution_count": 325,
   "id": "5d5544e1",
   "metadata": {},
   "outputs": [],
   "source": [
    "# imports\n",
    "from random import seed\n",
    "from random import randrange\n",
    "from csv import reader"
   ]
  },
  {
   "cell_type": "code",
   "execution_count": 326,
   "id": "2c7310a7",
   "metadata": {},
   "outputs": [],
   "source": [
    "# Load a CSV file\n",
    "def load_csv(filename):\n",
    "    dataset = list()\n",
    "    with open(filename, 'r') as file:\n",
    "        csv_reader = reader(file)\n",
    "        for row in csv_reader:\n",
    "            if not row:\n",
    "                continue\n",
    "            dataset.append(row)\n",
    "    return dataset"
   ]
  },
  {
   "cell_type": "code",
   "execution_count": 327,
   "id": "880f6e47",
   "metadata": {},
   "outputs": [],
   "source": [
    "# string to float\n",
    "def str_column_to_float(dataset, column):\n",
    "    for row in dataset:\n",
    "        row[column] = float(row[column].strip())"
   ]
  },
  {
   "cell_type": "code",
   "execution_count": 328,
   "id": "707f5e06",
   "metadata": {},
   "outputs": [],
   "source": [
    "# string to integer\n",
    "def str_column_to_int(dataset, column):\n",
    "    unique = set([row[column] for row in dataset])\n",
    "    lookup = {value: i for i, value in enumerate(unique)}\n",
    "    \n",
    "    for row in dataset:\n",
    "        row[column] = lookup[row[column]]\n",
    "    return lookup"
   ]
  },
  {
   "cell_type": "code",
   "execution_count": 329,
   "id": "7639aaab",
   "metadata": {},
   "outputs": [],
   "source": [
    "# min and max values for each column\n",
    "def dataset_minmax(dataset):\n",
    "    minmax = list()\n",
    "    for i in range(len(dataset[0])):\n",
    "        col_values = [row[i] for row in dataset]\n",
    "        value_min = min(col_values)\n",
    "        value_max = max(col_values)\n",
    "        minmax.append([value_min, value_max])\n",
    "    return minmax"
   ]
  },
  {
   "cell_type": "code",
   "execution_count": 330,
   "id": "ed9a84d9",
   "metadata": {},
   "outputs": [],
   "source": [
    "# Rescale dataset columns to the range 0-1\n",
    "def normalize_dataset(dataset, minmax):\n",
    "    for row in dataset:\n",
    "        for i in range(len(row)):\n",
    "            row[i] = (row[i] - minmax[i][0]) / (minmax[i][1] - minmax[i][0])"
   ]
  },
  {
   "cell_type": "code",
   "execution_count": 331,
   "id": "59b7eaa5",
   "metadata": {},
   "outputs": [],
   "source": [
    "# Split a dataset into k folds\n",
    "def cross_validation_split(dataset, n_folds):\n",
    "    dataset_split = list()\n",
    "    dataset_copy = list(dataset)\n",
    "    fold_size = int(len(dataset) / n_folds)\n",
    "    for _ in range(n_folds):\n",
    "        fold = list()\n",
    "        while len(fold) < fold_size:\n",
    "            index = randrange(len(dataset_copy))\n",
    "            fold.append(dataset_copy.pop(index))\n",
    "        dataset_split.append(fold)\n",
    "    return dataset_split"
   ]
  },
  {
   "cell_type": "code",
   "execution_count": 332,
   "id": "749256f3",
   "metadata": {},
   "outputs": [],
   "source": [
    "# Calculate accuracy percentage\n",
    "def accuracy_metric(actual, predicted):\n",
    "    correct = 0\n",
    "    for i in range(len(actual)):\n",
    "        if actual[i] == predicted[i]:\n",
    "            correct += 1\n",
    "    return correct / float(len(actual)) * 100.0\n",
    "\n",
    "def precision_metric(actual, predicted):\n",
    "    classes = list(set(actual))\n",
    "    totPredictions = {\n",
    "        i: 0 for i in classes\n",
    "    }\n",
    "    correctPred = {\n",
    "        i: 0 for i in classes\n",
    "    }\n",
    "    \n",
    "    for i in range(len(actual)):\n",
    "        totPredictions[predicted[i]] += 1\n",
    "        if (predicted[i] == actual[i]):\n",
    "            correctPred[predicted[i]] += 1\n",
    "            \n",
    "    return [((correctPred[i] / totPredictions[i]) * 100.0) for i in totPredictions]\n",
    "\n",
    "def recall_metric(actual, predicted):\n",
    "    classes = list(set(actual))\n",
    "    totActuals = {\n",
    "        i: 0 for i in classes\n",
    "    }\n",
    "    correctPred = {\n",
    "        i: 0 for i in classes\n",
    "    }\n",
    "    \n",
    "    for i in range(len(actual)):\n",
    "        totActuals[actual[i]] += 1\n",
    "        if (predicted[i] == actual[i]):\n",
    "            correctPred[predicted[i]] += 1\n",
    "            \n",
    "    return [((correctPred[i] / totActuals[i]) * 100.0) for i in totActuals]\n",
    "\n",
    "def f1_metric(precision, recall):\n",
    "    return [((2 * recall[i] * precision[i]) / (recall[i] + precision[i])) for i in range(len(precision))]"
   ]
  },
  {
   "cell_type": "code",
   "execution_count": 333,
   "id": "479fb7c3",
   "metadata": {},
   "outputs": [],
   "source": [
    "# Evaluate an algorithm using a cross validation split\n",
    "def evaluate_algorithm(dataset, algorithm, n_folds, *args):\n",
    "    folds = cross_validation_split(dataset, n_folds)\n",
    "    scores = list()\n",
    "    precisionScores = list()\n",
    "    recallScores = list()\n",
    "    f1Scores = list()\n",
    "    for fold in folds:\n",
    "        train_set = list(folds)\n",
    "        train_set.remove(fold)\n",
    "        train_set = sum(train_set, [])\n",
    "        test_set = list()\n",
    "        for row in fold:\n",
    "            row_copy = list(row)\n",
    "            test_set.append(row_copy)\n",
    "            row_copy[-1] = None\n",
    "        predicted = algorithm(train_set, test_set, *args)\n",
    "        actual = [row[-1] for row in fold]\n",
    "        accuracy = accuracy_metric(actual, predicted)\n",
    "        precision = precision_metric(actual, predicted)\n",
    "        recall = recall_metric(actual, predicted)\n",
    "        f1Scores.append(f1_metric(precision, recall))\n",
    "        scores.append(accuracy)\n",
    "        precisionScores.append(precision)\n",
    "        recallScores.append(recall)\n",
    "        \n",
    "    print('Precision Scores: %s' % precisionScores)\n",
    "    print('Recall Scores: %s' % recallScores)\n",
    "    print('F1 Scores: %s' % f1Scores)\n",
    "    return scores"
   ]
  },
  {
   "cell_type": "code",
   "execution_count": 334,
   "id": "04d1b80e",
   "metadata": {},
   "outputs": [],
   "source": [
    "# kNN Algorithm\n",
    "def k_nearest_neighbors(train, test, num_neighbors = 3, distance_func = 2):\n",
    "    predictions = list()\n",
    "    for row in test:\n",
    "        output = predict_classification(train, row, num_neighbors, distance_func)\n",
    "        predictions.append(output)\n",
    "    return(predictions)"
   ]
  },
  {
   "cell_type": "code",
   "execution_count": 335,
   "id": "b7ceebad",
   "metadata": {},
   "outputs": [
    {
     "name": "stdout",
     "output_type": "stream",
     "text": [
      "Precision Scores: [[91.66666666666666, 100.0, 100.0], [90.0, 100.0, 100.0], [100.0, 100.0, 100.0], [81.81818181818183, 88.88888888888889, 100.0], [100.0, 100.0, 100.0]]\n",
      "Recall Scores: [[100.0, 87.5, 100.0], [100.0, 90.9090909090909, 100.0], [100.0, 100.0, 100.0], [90.0, 80.0, 100.0], [100.0, 100.0, 100.0]]\n",
      "F1 Scores: [[95.65217391304347, 93.33333333333333, 100.0], [94.73684210526316, 95.23809523809523, 100.0], [100.0, 100.0, 100.0], [85.71428571428574, 84.21052631578948, 100.0], [100.0, 100.0, 100.0]]\n",
      "Scores: [96.66666666666667, 96.66666666666667, 100.0, 90.0, 100.0]\n",
      "Mean Accuracy: 96.667%\n"
     ]
    }
   ],
   "source": [
    "#Test the kNN on the Iris Flowers dataset\n",
    "seed(1)\n",
    "filename = 'iris.csv'\n",
    "datasetIris = load_csv(filename)\n",
    "\n",
    "for i in range(len(datasetIris[0])-1):\n",
    "    str_column_to_float(datasetIris, i)\n",
    "\n",
    "# convert class column to integers\n",
    "str_column_to_int(datasetIris, len(datasetIris[0])-1)\n",
    "\n",
    "# evaluate algorithm\n",
    "n_folds = 5\n",
    "num_neighbors = 5\n",
    "distance_func = 2\n",
    "scores = evaluate_algorithm(datasetIris, k_nearest_neighbors, n_folds, num_neighbors, distance_func)\n",
    "print('Scores: %s' % scores)\n",
    "print('Mean Accuracy: %.3f%%' % (sum(scores)/float (len(scores))))"
   ]
  },
  {
   "cell_type": "markdown",
   "id": "78d8ce7f",
   "metadata": {},
   "source": [
    "## Problem 2.1 and Problem 3 Metrics\n",
    "(values in Problem 4)"
   ]
  },
  {
   "cell_type": "code",
   "execution_count": 336,
   "id": "80f2d7d6",
   "metadata": {},
   "outputs": [],
   "source": [
    "#kNN on 1000+ dimension dataset\n",
    "import random\n",
    "seed(1)\n",
    "dataset1000 = list()\n",
    "sample = list()\n",
    "for _ in range(1000):\n",
    "    sample = [random.random() for _ in range(1000)]\n",
    "    r = random.randint(0, 1)\n",
    "    sample.append(r)\n",
    "    dataset1000.append(sample)\n",
    "\n",
    "# evaluate algorithm\n",
    "n_folds = 5\n",
    "num_neighbors = 5\n",
    "distance_func = 2\n",
    "# scores = evaluate_algorithm(dataset1000, k_nearest_neighbors, n_folds, num_neighbors, distance_func)\n",
    "# print('Scores: %s' % scores)\n",
    "# print('Mean Accuracy: %.3f%%' % (sum(scores)/float (len(scores))))"
   ]
  },
  {
   "cell_type": "markdown",
   "id": "a85292be",
   "metadata": {},
   "source": [
    "## Problem 2.2 and Problem 3 Metrics\n",
    "(values in Problem 4)"
   ]
  },
  {
   "cell_type": "code",
   "execution_count": 337,
   "id": "b6d6de84",
   "metadata": {},
   "outputs": [],
   "source": [
    "#kNN on 100+ dimension dataset\n",
    "import random\n",
    "seed(1)\n",
    "dataset100 = list()\n",
    "sample = list()\n",
    "for _ in range(150):\n",
    "    sample = [random.random() for _ in range(100)]\n",
    "    r = random.randint(0, 1)\n",
    "    sample.append(r)\n",
    "    dataset100.append(sample)\n",
    "\n",
    "# evaluate algorithm\n",
    "n_folds = 5\n",
    "num_neighbors = 5\n",
    "distance_func = 2\n",
    "# scores = evaluate_algorithm(dataset100, k_nearest_neighbors, n_folds, num_neighbors, distance_func)\n",
    "# print('Scores: %s' % scores)\n",
    "# print('Mean Accuracy: %.3f%%' % (sum(scores)/float (len(scores))))"
   ]
  },
  {
   "cell_type": "markdown",
   "id": "e5b6d894",
   "metadata": {},
   "source": [
    "## Problem 2.3 and Problem 3 Metrics\n",
    "(values in Problem 4)"
   ]
  },
  {
   "cell_type": "code",
   "execution_count": 338,
   "id": "5fae8e56",
   "metadata": {},
   "outputs": [],
   "source": [
    "# #kNN on bag of words dataset\n",
    "import random\n",
    "seed(1)\n",
    "datasetBag = list()\n",
    "sample = list()\n",
    "goodCount = 0\n",
    "badCount = 0\n",
    "for _ in range (1000):\n",
    "    sample = [random.randint(0, 1) for _ in range(10)]\n",
    "    datasetBag.append(sample)\n",
    "\n",
    "for i in range(len(datasetBag)):\n",
    "    vocab = datasetBag[i]\n",
    "    if (vocab[2] == 1 & vocab[4] == 1 & vocab[8] == 1):\n",
    "        vocab.append(1)\n",
    "#         goodCount += 1\n",
    "    else:\n",
    "        vocab.append(0)\n",
    "#         badCount += 1\n",
    "# print(goodCount)\n",
    "# print(badCount)\n",
    "\n",
    "# evaluate algorithm\n",
    "n_folds = 5\n",
    "num_neighbors = 5\n",
    "distance_func = 2\n",
    "# scores = evaluate_algorithm(datasetBag, k_nearest_neighbors, n_folds, num_neighbors, distance_func)\n",
    "# print('Scores: %s' % scores)\n",
    "# print('Mean Accuracy: %.3f%%' % (sum(scores)/float (len(scores))))"
   ]
  },
  {
   "cell_type": "markdown",
   "id": "e42768f0",
   "metadata": {},
   "source": [
    "## Problem 4"
   ]
  },
  {
   "cell_type": "code",
   "execution_count": 369,
   "id": "19c6e7d4",
   "metadata": {},
   "outputs": [
    {
     "name": "stdout",
     "output_type": "stream",
     "text": [
      "Iris Dataset\n",
      "k =  1\n",
      "Precision Scores: [[91.66666666666666, 100.0, 100.0], [100.0, 100.0, 100.0], [90.9090909090909, 62.5, 100.0], [87.5, 87.5, 100.0], [100.0, 100.0, 100.0]]\n",
      "Recall Scores: [[100.0, 92.3076923076923, 100.0], [100.0, 100.0, 100.0], [76.92307692307693, 83.33333333333334, 100.0], [87.5, 87.5, 100.0], [100.0, 100.0, 100.0]]\n",
      "F1 Scores: [[95.65217391304347, 95.99999999999999, 100.0], [100.0, 100.0, 100.0], [83.33333333333334, 71.42857142857143, 100.0], [87.5, 87.5, 100.0], [100.0, 100.0, 100.0]]\n",
      "Scores: [96.66666666666667, 100.0, 86.66666666666667, 93.33333333333333, 100.0]\n",
      "Mean Accuracy: 95.333%\n",
      "\n",
      "k =  2\n",
      "Precision Scores: [[100.0, 100.0, 100.0], [87.5, 71.42857142857143, 100.0], [90.0, 100.0, 100.0], [100.0, 90.9090909090909, 100.0], [78.57142857142857, 100.0, 100.0]]\n",
      "Recall Scores: [[100.0, 100.0, 100.0], [77.77777777777779, 83.33333333333334, 100.0], [100.0, 91.66666666666666, 100.0], [90.9090909090909, 100.0, 100.0], [100.0, 70.0, 100.0]]\n",
      "F1 Scores: [[100.0, 100.0, 100.0], [82.35294117647061, 76.92307692307693, 100.0], [94.73684210526316, 95.65217391304347, 100.0], [95.23809523809523, 95.23809523809523, 100.0], [88.0, 82.3529411764706, 100.0]]\n",
      "Scores: [100.0, 90.0, 96.66666666666667, 96.66666666666667, 90.0]\n",
      "Mean Accuracy: 94.667%\n",
      "\n",
      "k =  3\n",
      "Precision Scores: [[90.9090909090909, 100.0, 100.0], [80.0, 100.0, 100.0], [100.0, 100.0, 100.0], [100.0, 88.88888888888889, 100.0], [100.0, 83.33333333333334, 100.0]]\n",
      "Recall Scores: [[100.0, 88.88888888888889, 100.0], [100.0, 84.61538461538461, 100.0], [100.0, 100.0, 100.0], [88.88888888888889, 100.0, 100.0], [84.61538461538461, 100.0, 100.0]]\n",
      "F1 Scores: [[95.23809523809523, 94.11764705882352, 100.0], [88.88888888888889, 91.66666666666666, 100.0], [100.0, 100.0, 100.0], [94.11764705882352, 94.11764705882352, 100.0], [91.66666666666666, 90.9090909090909, 100.0]]\n",
      "Scores: [96.66666666666667, 93.33333333333333, 100.0, 96.66666666666667, 93.33333333333333]\n",
      "Mean Accuracy: 96.000%\n",
      "\n",
      "k =  4\n",
      "Precision Scores: [[92.3076923076923, 100.0, 100.0], [100.0, 100.0, 100.0], [90.9090909090909, 100.0, 100.0], [100.0, 90.9090909090909, 100.0], [88.88888888888889, 100.0, 100.0]]\n",
      "Recall Scores: [[100.0, 85.71428571428571, 100.0], [100.0, 100.0, 100.0], [100.0, 88.88888888888889, 100.0], [90.0, 100.0, 100.0], [100.0, 91.66666666666666, 100.0]]\n",
      "F1 Scores: [[95.99999999999999, 92.30769230769229, 100.0], [100.0, 100.0, 100.0], [95.23809523809523, 94.11764705882352, 100.0], [94.73684210526316, 95.23809523809523, 100.0], [94.11764705882352, 95.65217391304347, 100.0]]\n",
      "Scores: [96.66666666666667, 100.0, 96.66666666666667, 96.66666666666667, 96.66666666666667]\n",
      "Mean Accuracy: 97.333%\n",
      "\n",
      "k =  5\n",
      "Precision Scores: [[81.81818181818183, 100.0, 100.0], [91.66666666666666, 90.9090909090909, 100.0], [100.0, 90.9090909090909, 100.0], [100.0, 100.0, 100.0], [100.0, 90.9090909090909, 100.0]]\n",
      "Recall Scores: [[100.0, 83.33333333333334, 100.0], [91.66666666666666, 90.9090909090909, 100.0], [91.66666666666666, 100.0, 100.0], [100.0, 100.0, 100.0], [87.5, 100.0, 100.0]]\n",
      "F1 Scores: [[90.00000000000001, 90.9090909090909, 100.0], [91.66666666666666, 90.9090909090909, 100.0], [95.65217391304347, 95.23809523809523, 100.0], [100.0, 100.0, 100.0], [93.33333333333333, 95.23809523809523, 100.0]]\n",
      "Scores: [93.33333333333333, 93.33333333333333, 96.66666666666667, 100.0, 96.66666666666667]\n",
      "Mean Accuracy: 96.000%\n",
      "\n",
      "k =  6\n",
      "Precision Scores: [[90.0, 100.0, 100.0], [90.0, 100.0, 100.0], [85.71428571428571, 100.0, 100.0], [90.0, 100.0, 100.0], [100.0, 90.9090909090909, 100.0]]\n",
      "Recall Scores: [[100.0, 92.3076923076923, 100.0], [100.0, 85.71428571428571, 100.0], [100.0, 84.61538461538461, 100.0], [100.0, 85.71428571428571, 100.0], [90.9090909090909, 100.0, 100.0]]\n",
      "F1 Scores: [[94.73684210526316, 95.99999999999999, 100.0], [94.73684210526316, 92.30769230769229, 100.0], [92.30769230769229, 91.66666666666666, 100.0], [94.73684210526316, 92.30769230769229, 100.0], [95.23809523809523, 95.23809523809523, 100.0]]\n",
      "Scores: [96.66666666666667, 96.66666666666667, 93.33333333333333, 96.66666666666667, 96.66666666666667]\n",
      "Mean Accuracy: 96.000%\n",
      "\n",
      "k =  7\n",
      "Precision Scores: [[100.0, 100.0, 100.0], [80.0, 100.0, 100.0], [100.0, 100.0, 100.0], [100.0, 100.0, 100.0], [100.0, 85.71428571428571, 100.0]]\n",
      "Recall Scores: [[100.0, 100.0, 100.0], [100.0, 92.85714285714286, 100.0], [100.0, 100.0, 100.0], [100.0, 100.0, 100.0], [91.66666666666666, 100.0, 100.0]]\n",
      "F1 Scores: [[100.0, 100.0, 100.0], [88.88888888888889, 96.2962962962963, 100.0], [100.0, 100.0, 100.0], [100.0, 100.0, 100.0], [95.65217391304347, 92.30769230769229, 100.0]]\n",
      "Scores: [100.0, 96.66666666666667, 100.0, 100.0, 96.66666666666667]\n",
      "Mean Accuracy: 98.667%\n",
      "\n",
      "k =  8\n",
      "Precision Scores: [[100.0, 100.0, 100.0], [85.71428571428571, 100.0, 100.0], [92.3076923076923, 100.0, 100.0], [87.5, 100.0, 100.0], [100.0, 90.0, 100.0]]\n",
      "Recall Scores: [[100.0, 100.0, 100.0], [100.0, 81.81818181818183, 100.0], [100.0, 91.66666666666666, 100.0], [100.0, 91.66666666666666, 100.0], [87.5, 100.0, 100.0]]\n",
      "F1 Scores: [[100.0, 100.0, 100.0], [92.30769230769229, 90.00000000000001, 100.0], [95.99999999999999, 95.65217391304347, 100.0], [93.33333333333333, 95.65217391304347, 100.0], [93.33333333333333, 94.73684210526316, 100.0]]\n",
      "Scores: [100.0, 93.33333333333333, 96.66666666666667, 96.66666666666667, 96.66666666666667]\n",
      "Mean Accuracy: 96.667%\n",
      "\n",
      "k =  9\n",
      "Precision Scores: [[100.0, 100.0, 100.0], [100.0, 100.0, 100.0], [90.9090909090909, 100.0, 100.0], [77.77777777777779, 91.66666666666666, 100.0], [100.0, 100.0, 100.0]]\n",
      "Recall Scores: [[100.0, 100.0, 100.0], [100.0, 100.0, 100.0], [100.0, 92.3076923076923, 100.0], [87.5, 84.61538461538461, 100.0], [100.0, 100.0, 100.0]]\n",
      "F1 Scores: [[100.0, 100.0, 100.0], [100.0, 100.0, 100.0], [95.23809523809523, 95.99999999999999, 100.0], [82.35294117647061, 87.99999999999999, 100.0], [100.0, 100.0, 100.0]]\n",
      "Scores: [100.0, 100.0, 96.66666666666667, 90.0, 100.0]\n",
      "Mean Accuracy: 97.333%\n",
      "\n",
      "k =  10\n",
      "Precision Scores: [[83.33333333333334, 100.0, 100.0], [90.9090909090909, 100.0, 100.0], [91.66666666666666, 100.0, 100.0], [100.0, 88.88888888888889, 100.0], [100.0, 100.0, 100.0]]\n",
      "Recall Scores: [[100.0, 90.9090909090909, 100.0], [100.0, 90.0, 100.0], [100.0, 91.66666666666666, 100.0], [92.85714285714286, 100.0, 100.0], [100.0, 100.0, 100.0]]\n",
      "F1 Scores: [[90.9090909090909, 95.23809523809523, 100.0], [95.23809523809523, 94.73684210526316, 100.0], [95.65217391304347, 95.65217391304347, 100.0], [96.2962962962963, 94.11764705882352, 100.0], [100.0, 100.0, 100.0]]\n",
      "Scores: [96.66666666666667, 96.66666666666667, 96.66666666666667, 96.66666666666667, 100.0]\n",
      "Mean Accuracy: 97.333%\n",
      "\n",
      "100 Dimension Dataset\n",
      "k =  1\n",
      "Precision Scores: [[40.0, 50.0], [50.0, 33.33333333333333], [47.368421052631575, 54.54545454545454], [42.857142857142854, 43.75], [62.5, 57.14285714285714]]\n",
      "Recall Scores: [[61.53846153846154, 29.411764705882355], [33.33333333333333, 50.0], [64.28571428571429, 37.5], [40.0, 46.666666666666664], [62.5, 57.14285714285714]]\n",
      "F1 Scores: [[48.48484848484848, 37.037037037037045], [40.0, 40.0], [54.54545454545455, 44.44444444444445], [41.37931034482758, 45.16129032258065], [62.5, 57.14285714285714]]\n",
      "Scores: [43.333333333333336, 40.0, 50.0, 43.333333333333336, 60.0]\n",
      "Mean Accuracy: 47.333%\n",
      "\n",
      "k =  2\n",
      "Precision Scores: [[55.00000000000001, 50.0], [46.42857142857143, 50.0], [65.0, 50.0], [43.47826086956522, 42.857142857142854], [47.82608695652174, 57.14285714285714]]\n",
      "Recall Scores: [[68.75, 35.714285714285715], [92.85714285714286, 6.25], [72.22222222222221, 41.66666666666667], [71.42857142857143, 18.75], [78.57142857142857, 25.0]]\n",
      "F1 Scores: [[61.11111111111112, 41.666666666666664], [61.90476190476192, 11.11111111111111], [68.42105263157895, 45.45454545454545], [54.05405405405405, 26.086956521739133], [59.45945945945947, 34.78260869565217]]\n",
      "Scores: [53.333333333333336, 46.666666666666664, 60.0, 43.333333333333336, 50.0]\n",
      "Mean Accuracy: 50.667%\n",
      "\n",
      "k =  3\n",
      "Precision Scores: [[53.84615384615385, 41.17647058823529], [35.0, 50.0], [58.82352941176471, 61.53846153846154], [71.42857142857143, 56.25], [50.0, 50.0]]\n",
      "Recall Scores: [[41.17647058823529, 53.84615384615385], [58.333333333333336, 27.77777777777778], [66.66666666666666, 53.333333333333336], [58.82352941176471, 69.23076923076923], [60.0, 40.0]]\n",
      "F1 Scores: [[46.66666666666666, 46.66666666666666], [43.75, 35.714285714285715], [62.5, 57.142857142857146], [64.51612903225806, 62.06896551724138], [54.54545454545455, 44.44444444444444]]\n",
      "Scores: [46.666666666666664, 40.0, 60.0, 63.33333333333333, 50.0]\n",
      "Mean Accuracy: 52.000%\n",
      "\n",
      "k =  4\n"
     ]
    },
    {
     "name": "stdout",
     "output_type": "stream",
     "text": [
      "Precision Scores: [[50.0, 75.0], [45.45454545454545, 75.0], [52.38095238095239, 33.33333333333333], [55.00000000000001, 30.0], [63.1578947368421, 63.63636363636363]]\n",
      "Recall Scores: [[84.61538461538461, 35.294117647058826], [83.33333333333334, 33.33333333333333], [64.70588235294117, 23.076923076923077], [61.111111111111114, 25.0], [75.0, 50.0]]\n",
      "F1 Scores: [[62.857142857142854, 48.00000000000001], [58.823529411764696, 46.153846153846146], [57.89473684210526, 27.272727272727266], [57.894736842105274, 27.272727272727273], [68.57142857142857, 56.0]]\n",
      "Scores: [56.666666666666664, 53.333333333333336, 46.666666666666664, 46.666666666666664, 63.33333333333333]\n",
      "Mean Accuracy: 53.333%\n",
      "\n",
      "k =  5\n",
      "Precision Scores: [[57.14285714285714, 66.66666666666666], [46.666666666666664, 60.0], [41.17647058823529, 61.53846153846154], [75.0, 55.55555555555556], [71.42857142857143, 43.75]]\n",
      "Recall Scores: [[80.0, 40.0], [53.84615384615385, 52.94117647058824], [58.333333333333336, 44.44444444444444], [52.94117647058824, 76.92307692307693], [52.63157894736842, 63.63636363636363]]\n",
      "F1 Scores: [[66.66666666666666, 49.99999999999999], [50.0, 56.25], [48.27586206896552, 51.61290322580645], [62.06896551724139, 64.51612903225806], [60.606060606060595, 51.851851851851855]]\n",
      "Scores: [60.0, 53.333333333333336, 50.0, 63.33333333333333, 56.666666666666664]\n",
      "Mean Accuracy: 56.667%\n",
      "\n",
      "Bag of Words Dataset\n",
      "k =  1\n",
      "Precision Scores: [[99.3975903614458, 73.52941176470588], [97.6878612716763, 74.07407407407408], [98.20359281437125, 90.9090909090909], [99.43502824858757, 95.65217391304348], [98.24561403508771, 79.3103448275862]]\n",
      "Recall Scores: [[94.82758620689656, 96.15384615384616], [96.02272727272727, 83.33333333333334], [98.20359281437125, 90.9090909090909], [99.43502824858757, 95.65217391304348], [96.55172413793103, 88.46153846153845]]\n",
      "F1 Scores: [[97.05882352941175, 83.33333333333334], [96.84813753581662, 78.43137254901961], [98.20359281437123, 90.9090909090909], [99.43502824858757, 95.65217391304347], [97.39130434782608, 83.63636363636363]]\n",
      "Scores: [95.0, 94.5, 97.0, 99.0, 95.5]\n",
      "Mean Accuracy: 96.200%\n",
      "\n",
      "k =  2\n",
      "Precision Scores: [[97.75280898876404, 100.0], [94.35028248587571, 95.65217391304348], [96.72131147540983, 100.0], [96.5909090909091, 95.83333333333334], [94.68085106382979, 100.0]]\n",
      "Recall Scores: [[100.0, 84.61538461538461], [99.40476190476191, 68.75], [100.0, 73.91304347826086], [99.41520467836257, 79.3103448275862], [100.0, 54.54545454545454]]\n",
      "F1 Scores: [[98.86363636363636, 91.66666666666666], [96.81159420289855, 80.0], [98.33333333333334, 84.99999999999999], [97.98270893371757, 86.7924528301887], [97.26775956284155, 70.58823529411765]]\n",
      "Scores: [98.0, 94.5, 97.0, 96.5, 95.0]\n",
      "Mean Accuracy: 96.200%\n",
      "\n",
      "k =  3\n",
      "Precision Scores: [[98.31460674157303, 90.9090909090909], [100.0, 100.0], [96.47058823529412, 90.0], [97.20670391061452, 95.23809523809523], [98.87005649717514, 95.65217391304348]]\n",
      "Recall Scores: [[98.87005649717514, 86.95652173913044], [100.0, 100.0], [98.20359281437125, 81.81818181818183], [99.42857142857143, 80.0], [99.43181818181817, 91.66666666666666]]\n",
      "F1 Scores: [[98.59154929577466, 88.8888888888889], [100.0, 100.0], [97.3293768545994, 85.71428571428574], [98.3050847457627, 86.95652173913042], [99.15014164305948, 93.61702127659576]]\n",
      "Scores: [97.5, 100.0, 95.5, 97.0, 98.5]\n",
      "Mean Accuracy: 97.700%\n",
      "\n",
      "k =  4\n",
      "Precision Scores: [[96.68508287292818, 100.0], [98.31460674157303, 100.0], [95.95375722543352, 100.0], [93.98907103825137, 100.0], [96.23655913978494, 92.85714285714286]]\n",
      "Recall Scores: [[100.0, 76.0], [100.0, 88.0], [100.0, 79.41176470588235], [100.0, 60.71428571428571], [99.44444444444444, 65.0]]\n",
      "F1 Scores: [[98.31460674157303, 86.36363636363636], [99.15014164305948, 93.61702127659575], [97.93510324483776, 88.52459016393443], [96.90140845070422, 75.55555555555554], [97.81420765027322, 76.47058823529412]]\n",
      "Scores: [97.0, 98.5, 96.5, 94.5, 96.0]\n",
      "Mean Accuracy: 96.500%\n",
      "\n",
      "k =  5\n",
      "Precision Scores: [[100.0, 95.83333333333334], [96.5909090909091, 91.66666666666666], [97.12643678160919, 100.0], [98.88268156424581, 100.0], [96.64804469273743, 100.0]]\n",
      "Recall Scores: [[99.43502824858757, 100.0], [98.83720930232558, 78.57142857142857], [100.0, 83.87096774193549], [100.0, 91.30434782608695], [100.0, 77.77777777777779]]\n",
      "F1 Scores: [[99.71671388101983, 97.87234042553192], [97.70114942528734, 84.6153846153846], [98.54227405247813, 91.2280701754386], [99.43820224719101, 95.45454545454547], [98.29545454545455, 87.50000000000001]]\n",
      "Scores: [99.5, 96.0, 97.5, 99.0, 97.0]\n",
      "Mean Accuracy: 97.800%\n",
      "\n",
      "k =  6\n",
      "Precision Scores: [[96.11111111111111, 95.0], [97.22222222222221, 100.0], [97.79005524861878, 100.0], [96.5909090909091, 100.0], [97.17514124293785, 100.0]]\n",
      "Recall Scores: [[99.42528735632183, 73.07692307692307], [100.0, 80.0], [100.0, 82.6086956521739], [100.0, 80.0], [100.0, 82.14285714285714]]\n",
      "F1 Scores: [[97.74011299435028, 82.6086956521739], [98.59154929577463, 88.88888888888889], [98.88268156424581, 90.47619047619047], [98.26589595375724, 88.88888888888889], [98.56733524355302, 90.19607843137254]]\n",
      "Scores: [96.0, 97.5, 98.0, 97.0, 97.5]\n",
      "Mean Accuracy: 97.200%\n",
      "\n",
      "k =  7\n",
      "Precision Scores: [[97.77777777777777, 100.0], [98.86363636363636, 95.83333333333334], [98.84393063583815, 100.0], [98.29545454545455, 100.0], [97.19101123595506, 100.0]]\n",
      "Recall Scores: [[100.0, 83.33333333333334], [99.42857142857143, 92.0], [100.0, 93.10344827586206], [100.0, 88.88888888888889], [100.0, 81.48148148148148]]\n",
      "F1 Scores: [[98.87640449438202, 90.9090909090909], [99.14529914529913, 93.87755102040818], [99.4186046511628, 96.42857142857143], [99.1404011461318, 94.11764705882352], [98.57549857549859, 89.79591836734694]]\n",
      "Scores: [98.0, 98.5, 99.0, 98.5, 97.5]\n",
      "Mean Accuracy: 98.300%\n",
      "\n",
      "k =  8\n",
      "Precision Scores: [[98.87005649717514, 100.0], [96.53179190751445, 100.0], [98.88268156424581, 100.0], [97.74011299435028, 100.0], [96.17486338797814, 100.0]]\n",
      "Recall Scores: [[100.0, 92.0], [100.0, 81.81818181818183], [100.0, 91.30434782608695], [100.0, 85.18518518518519], [100.0, 70.83333333333334]]\n",
      "F1 Scores: [[99.43181818181817, 95.83333333333333], [98.23529411764706, 90.00000000000001], [99.43820224719101, 95.45454545454547], [98.85714285714285, 92.0], [98.05013927576601, 82.92682926829268]]\n",
      "Scores: [99.0, 97.0, 99.0, 98.0, 96.5]\n",
      "Mean Accuracy: 97.900%\n",
      "\n",
      "k =  9\n",
      "Precision Scores: [[98.85714285714286, 100.0], [99.42528735632183, 100.0], [98.85714285714286, 100.0], [97.70114942528735, 100.0], [99.44444444444444, 100.0]]\n",
      "Recall Scores: [[100.0, 92.5925925925926], [100.0, 96.29629629629629], [100.0, 92.5925925925926], [100.0, 86.66666666666667], [100.0, 95.23809523809523]]\n",
      "F1 Scores: [[99.42528735632185, 96.15384615384615], [99.71181556195964, 98.11320754716981], [99.42528735632185, 96.15384615384615], [98.83720930232558, 92.85714285714286], [99.72144846796655, 97.56097560975608]]\n",
      "Scores: [99.0, 99.5, 99.0, 98.0, 99.5]\n",
      "Mean Accuracy: 99.000%\n",
      "\n",
      "k =  10\n",
      "Precision Scores: [[98.32402234636871, 100.0], [97.67441860465115, 100.0], [100.0, 100.0], [96.57142857142857, 100.0], [98.35164835164835, 100.0]]\n",
      "Recall Scores: [[100.0, 87.5], [100.0, 87.5], [100.0, 100.0], [100.0, 80.64516129032258], [100.0, 85.71428571428571]]\n",
      "F1 Scores: [[99.15492957746478, 93.33333333333333], [98.8235294117647, 93.33333333333333], [100.0, 100.0], [98.25581395348837, 89.28571428571429], [99.16897506925207, 92.30769230769229]]\n",
      "Scores: [98.5, 98.0, 100.0, 97.0, 98.5]\n",
      "Mean Accuracy: 98.400%\n",
      "\n"
     ]
    }
   ],
   "source": [
    "print(\"Iris Dataset\")\n",
    "for num_neighbors in range(1, 11):\n",
    "    n_folds = 5\n",
    "    distance_func = 2\n",
    "    print(\"k = \", num_neighbors)\n",
    "    scores = evaluate_algorithm(datasetIris, k_nearest_neighbors, n_folds, num_neighbors, distance_func)\n",
    "    print('Scores: %s' % scores)\n",
    "    print('Mean Accuracy: %.3f%%' % (sum(scores)/float (len(scores))))\n",
    "    print()\n",
    "\n",
    "# 1000 not seen in output because it was already completed but takes to long to process a second time\n",
    "print(\"1000 Dimension Dataset\")\n",
    "for num_neighbors in range(1, 11):\n",
    "    n_folds = 5\n",
    "    distance_func = 2\n",
    "    print(\"k = \", num_neighbors)\n",
    "    scores = evaluate_algorithm(dataset1000, k_nearest_neighbors, n_folds, num_neighbors, distance_func)\n",
    "    print('Scores: %s' % scores)\n",
    "    print('Mean Accuracy: %.3f%%' % (sum(scores)/float (len(scores))))\n",
    "    print()\n",
    "\n",
    "print(\"100 Dimension Dataset\")\n",
    "for num_neighbors in range(1, 6):\n",
    "    n_folds = 5\n",
    "    distance_func = 2\n",
    "    print(\"k = \", num_neighbors)\n",
    "    scores = evaluate_algorithm(dataset100, k_nearest_neighbors, n_folds, num_neighbors, distance_func)\n",
    "    print('Scores: %s' % scores)\n",
    "    print('Mean Accuracy: %.3f%%' % (sum(scores)/float (len(scores))))\n",
    "    print()\n",
    "\n",
    "print(\"Bag of Words Dataset\")\n",
    "for num_neighbors in range(1, 11):\n",
    "    n_folds = 5\n",
    "    distance_func = 2\n",
    "    print(\"k = \", num_neighbors)\n",
    "    scores = evaluate_algorithm(datasetBag, k_nearest_neighbors, n_folds, num_neighbors, distance_func)\n",
    "    print('Scores: %s' % scores)\n",
    "    print('Mean Accuracy: %.3f%%' % (sum(scores)/float (len(scores))))\n",
    "    print()"
   ]
  },
  {
   "cell_type": "markdown",
   "id": "f55f0104",
   "metadata": {},
   "source": [
    "For the Iris dataset, k = 6 provided the best results\n",
    "\n",
    "For the dataset with 1000 dimensions, k = 2 provided the best results with high accuracy and highest F1 Scores\n",
    "\n",
    "For the dataset with 100 dimensions, k = 5 provided the best results\n",
    "\n",
    "For the dataset with bag of words, k = 5 provided the best results"
   ]
  },
  {
   "cell_type": "markdown",
   "id": "0b74ba26",
   "metadata": {},
   "source": [
    "## Problem 5"
   ]
  },
  {
   "cell_type": "code",
   "execution_count": 370,
   "id": "813bae39",
   "metadata": {},
   "outputs": [
    {
     "name": "stdout",
     "output_type": "stream",
     "text": [
      "Iris Dataset - Manhattan Distance\n",
      "Precision Scores: [[77.77777777777779, 83.33333333333334, 100.0], [90.9090909090909, 100.0, 100.0], [100.0, 93.75, 100.0], [91.66666666666666, 100.0, 100.0], [100.0, 90.0, 100.0]]\n",
      "Recall Scores: [[77.77777777777779, 83.33333333333334, 100.0], [100.0, 87.5, 100.0], [87.5, 100.0, 100.0], [100.0, 83.33333333333334, 100.0], [91.66666666666666, 100.0, 100.0]]\n",
      "F1 Scores: [[77.77777777777779, 83.33333333333334, 100.0], [95.23809523809523, 93.33333333333333, 100.0], [93.33333333333333, 96.7741935483871, 100.0], [95.65217391304347, 90.9090909090909, 100.0], [95.65217391304347, 94.73684210526316, 100.0]]\n",
      "Scores: [86.66666666666667, 96.66666666666667, 96.66666666666667, 96.66666666666667, 96.66666666666667]\n",
      "Mean Accuracy: 94.667%\n",
      "\n",
      "Iris Dataset - Euclidean Distance\n",
      "Precision Scores: [[100.0, 100.0, 100.0], [100.0, 91.66666666666666, 100.0], [88.88888888888889, 100.0, 100.0], [87.5, 100.0, 100.0], [84.61538461538461, 100.0, 100.0]]\n",
      "Recall Scores: [[100.0, 100.0, 100.0], [91.66666666666666, 100.0, 100.0], [100.0, 91.66666666666666, 100.0], [100.0, 90.9090909090909, 100.0], [100.0, 77.77777777777779, 100.0]]\n",
      "F1 Scores: [[100.0, 100.0, 100.0], [95.65217391304347, 95.65217391304347, 100.0], [94.11764705882352, 95.65217391304347, 100.0], [93.33333333333333, 95.23809523809523, 100.0], [91.66666666666666, 87.50000000000001, 100.0]]\n",
      "Scores: [100.0, 96.66666666666667, 96.66666666666667, 96.66666666666667, 93.33333333333333]\n",
      "Mean Accuracy: 96.667%\n",
      "\n",
      "1000 Dimension Dataset - Manhattan Distance\n",
      "Precision Scores: [[42.04545454545455, 54.46428571428571], [53.246753246753244, 52.03252032520326], [46.07843137254902, 46.93877551020408], [45.07042253521127, 46.51162790697674], [38.88888888888889, 46.36363636363636]]\n",
      "Recall Scores: [[42.04545454545455, 54.46428571428571], [41.0, 64.0], [47.474747474747474, 45.54455445544555], [31.683168316831683, 60.60606060606061], [37.234042553191486, 48.113207547169814]]\n",
      "F1 Scores: [[42.04545454545455, 54.4642857142857], [46.327683615819204, 57.39910313901346], [46.766169154228855, 46.231155778894475], [37.2093023255814, 52.63157894736842], [38.043478260869556, 47.22222222222223]]\n",
      "Scores: [49.0, 52.5, 46.5, 46.0, 43.0]\n",
      "Mean Accuracy: 47.400%\n",
      "\n",
      "1000 Dimension Dataset - Manhattan Distance\n",
      "Precision Scores: [[36.734693877551024, 51.9607843137255], [44.9438202247191, 52.25225225225225], [43.47826086956522, 50.92592592592593], [46.774193548387096, 42.028985507246375], [36.36363636363637, 39.83739837398374]]\n",
      "Recall Scores: [[42.35294117647059, 46.08695652173913], [43.01075268817204, 54.20560747663551], [43.01075268817204, 51.4018691588785], [26.605504587155966, 63.73626373626373], [27.450980392156865, 50.0]]\n",
      "F1 Scores: [[39.34426229508197, 48.84792626728111], [43.956043956043956, 53.21100917431192], [43.24324324324325, 51.162790697674424], [33.91812865497076, 50.65502183406113], [31.28491620111732, 44.343891402714924]]\n",
      "Scores: [44.5, 49.0, 47.5, 43.5, 38.5]\n",
      "Mean Accuracy: 44.600%\n",
      "\n",
      "100 Dimension Dataset - Manhattan Distance\n",
      "Precision Scores: [[57.89473684210527, 45.45454545454545], [58.82352941176471, 61.53846153846154], [55.00000000000001, 50.0], [66.66666666666666, 46.666666666666664], [31.57894736842105, 63.63636363636363]]\n",
      "Recall Scores: [[64.70588235294117, 38.46153846153847], [66.66666666666666, 53.333333333333336], [68.75, 35.714285714285715], [55.55555555555556, 58.333333333333336], [60.0, 35.0]]\n",
      "F1 Scores: [[61.11111111111111, 41.66666666666667], [62.5, 57.142857142857146], [61.11111111111112, 41.666666666666664], [60.60606060606061, 51.85185185185185], [41.37931034482759, 45.16129032258065]]\n",
      "Scores: [53.333333333333336, 60.0, 53.333333333333336, 56.666666666666664, 43.333333333333336]\n",
      "Mean Accuracy: 53.333%\n",
      "\n",
      "100 Dimension Dataset - Euclidean Distance\n",
      "Precision Scores: [[54.166666666666664, 66.66666666666666], [55.55555555555556, 91.66666666666666], [43.75, 28.57142857142857], [61.53846153846154, 47.05882352941176], [50.0, 43.75]]\n",
      "Recall Scores: [[86.66666666666667, 26.666666666666668], [90.9090909090909, 57.89473684210527], [41.17647058823529, 30.76923076923077], [47.05882352941176, 61.53846153846154], [43.75, 50.0]]\n",
      "F1 Scores: [[66.66666666666666, 38.095238095238095], [68.9655172413793, 70.96774193548387], [42.42424242424242, 29.629629629629626], [53.33333333333333, 53.33333333333333], [46.666666666666664, 46.666666666666664]]\n",
      "Scores: [56.666666666666664, 70.0, 36.666666666666664, 53.333333333333336, 46.666666666666664]\n",
      "Mean Accuracy: 52.667%\n",
      "\n",
      "Bag of Words Dataset - Manhattan Distance\n",
      "Precision Scores: [[98.87640449438202, 95.45454545454545], [98.24561403508771, 100.0], [99.43502824858757, 100.0], [97.17514124293785, 100.0], [97.76536312849163, 100.0]]\n",
      "Recall Scores: [[99.43502824858757, 91.30434782608695], [100.0, 90.625], [100.0, 95.83333333333334], [100.0, 82.14285714285714], [100.0, 84.0]]\n",
      "F1 Scores: [[99.15492957746477, 93.33333333333334], [99.1150442477876, 95.08196721311475], [99.71671388101983, 97.87234042553192], [98.56733524355302, 90.19607843137254], [98.87005649717514, 91.30434782608695]]\n",
      "Scores: [98.5, 98.5, 99.5, 97.5, 98.0]\n",
      "Mean Accuracy: 98.400%\n",
      "\n",
      "Bag of Words Dataset - Euclidean Distance\n",
      "Precision Scores: [[97.6470588235294, 100.0], [99.44444444444444, 100.0], [97.31182795698925, 100.0], [99.43502824858757, 100.0], [95.40229885057471, 100.0]]\n",
      "Recall Scores: [[100.0, 88.23529411764706], [100.0, 95.23809523809523], [100.0, 73.68421052631578], [100.0, 95.83333333333334], [100.0, 76.47058823529412]]\n",
      "F1 Scores: [[98.80952380952381, 93.75], [99.72144846796655, 97.56097560975608], [98.63760217983652, 84.84848484848484], [99.71671388101983, 97.87234042553192], [97.64705882352942, 86.66666666666667]]\n",
      "Scores: [98.0, 99.5, 97.5, 99.5, 96.0]\n",
      "Mean Accuracy: 98.100%\n",
      "\n"
     ]
    }
   ],
   "source": [
    "print(\"Iris Dataset - Manhattan Distance\")\n",
    "n_folds = 5\n",
    "num_neighbors = 5\n",
    "distance_func = 1\n",
    "scores = evaluate_algorithm(datasetIris, k_nearest_neighbors, n_folds, num_neighbors, distance_func)\n",
    "print('Scores: %s' % scores)\n",
    "print('Mean Accuracy: %.3f%%' % (sum(scores)/float (len(scores))))\n",
    "print()\n",
    "\n",
    "print(\"Iris Dataset - Euclidean Distance\")\n",
    "n_folds = 5\n",
    "num_neighbors = 5\n",
    "distance_func = 2\n",
    "scores = evaluate_algorithm(datasetIris, k_nearest_neighbors, n_folds, num_neighbors, distance_func)\n",
    "print('Scores: %s' % scores)\n",
    "print('Mean Accuracy: %.3f%%' % (sum(scores)/float (len(scores))))\n",
    "print()\n",
    "\n",
    "print(\"1000 Dimension Dataset - Manhattan Distance\")\n",
    "n_folds = 5\n",
    "num_neighbors = 5\n",
    "distance_func = 1\n",
    "scores = evaluate_algorithm(dataset1000, k_nearest_neighbors, n_folds, num_neighbors, distance_func)\n",
    "print('Scores: %s' % scores)\n",
    "print('Mean Accuracy: %.3f%%' % (sum(scores)/float (len(scores))))\n",
    "print()\n",
    "\n",
    "print(\"1000 Dimension Dataset - Manhattan Distance\")\n",
    "n_folds = 5\n",
    "num_neighbors = 5\n",
    "distance_func = 2\n",
    "scores = evaluate_algorithm(dataset1000, k_nearest_neighbors, n_folds, num_neighbors, distance_func)\n",
    "print('Scores: %s' % scores)\n",
    "print('Mean Accuracy: %.3f%%' % (sum(scores)/float (len(scores))))\n",
    "print()\n",
    "\n",
    "print(\"100 Dimension Dataset - Manhattan Distance\")\n",
    "n_folds = 5\n",
    "num_neighbors = 5\n",
    "distance_func = 1\n",
    "scores = evaluate_algorithm(dataset100, k_nearest_neighbors, n_folds, num_neighbors, distance_func)\n",
    "print('Scores: %s' % scores)\n",
    "print('Mean Accuracy: %.3f%%' % (sum(scores)/float (len(scores))))\n",
    "print()\n",
    "\n",
    "print(\"100 Dimension Dataset - Euclidean Distance\")\n",
    "n_folds = 5\n",
    "num_neighbors = 5\n",
    "distance_func = 2\n",
    "scores = evaluate_algorithm(dataset100, k_nearest_neighbors, n_folds, num_neighbors, distance_func)\n",
    "print('Scores: %s' % scores)\n",
    "print('Mean Accuracy: %.3f%%' % (sum(scores)/float (len(scores))))\n",
    "print()\n",
    "\n",
    "print(\"Bag of Words Dataset - Manhattan Distance\")\n",
    "n_folds = 5\n",
    "num_neighbors = 5\n",
    "distance_func = 1\n",
    "scores = evaluate_algorithm(datasetBag, k_nearest_neighbors, n_folds, num_neighbors, distance_func)\n",
    "print('Scores: %s' % scores)\n",
    "print('Mean Accuracy: %.3f%%' % (sum(scores)/float (len(scores))))\n",
    "print()\n",
    "\n",
    "print(\"Bag of Words Dataset - Euclidean Distance\")\n",
    "n_folds = 5\n",
    "num_neighbors = 5\n",
    "distance_func = 2\n",
    "scores = evaluate_algorithm(datasetBag, k_nearest_neighbors, n_folds, num_neighbors, distance_func)\n",
    "print('Scores: %s' % scores)\n",
    "print('Mean Accuracy: %.3f%%' % (sum(scores)/float (len(scores))))\n",
    "print()"
   ]
  },
  {
   "cell_type": "markdown",
   "id": "b95c98c3",
   "metadata": {},
   "source": [
    "Both Euclidean and Manhattan worked well on the datasets, but Manhattan worked for more of the datasets than Euclidean"
   ]
  },
  {
   "cell_type": "markdown",
   "id": "2d2c4701",
   "metadata": {},
   "source": [
    "## Problem 6\n",
    "1. Runtime increases as dimensionality increases\n",
    "2. The F1 score and accuracy decrease as dimensionality increases"
   ]
  },
  {
   "cell_type": "markdown",
   "id": "2608c9c2",
   "metadata": {},
   "source": [
    "## Problem 7"
   ]
  },
  {
   "cell_type": "code",
   "execution_count": 371,
   "id": "866e4d27",
   "metadata": {},
   "outputs": [
    {
     "name": "stdout",
     "output_type": "stream",
     "text": [
      "[[0.13436424411240122, 0.8474337369372327], [0.763774618976614, 0.2550690257394217], [0.49543508709194095, 0.4494910647887381], [0.651592972722763, 0.7887233511355132], [0.0938595867742349, 0.02834747652200631], [0.8357651039198697, 0.43276706790505337], [0.762280082457942, 0.0021060533511106927], [0.4453871940548014, 0.7215400323407826], [0.22876222127045265, 0.9452706955539223], [0.9014274576114836, 0.030589983033553536]]\n"
     ]
    }
   ],
   "source": [
    "import random\n",
    "seed(1)\n",
    "datasetMeans = list()\n",
    "sample = list()\n",
    "for _ in range(10):\n",
    "    sample = [random.random() for _ in range(2)]\n",
    "    datasetMeans.append(sample)\n",
    "print(datasetMeans)"
   ]
  },
  {
   "cell_type": "code",
   "execution_count": 388,
   "id": "581907ce",
   "metadata": {},
   "outputs": [
    {
     "name": "stdout",
     "output_type": "stream",
     "text": [
      "[[0.13436424411240122, 0.8474337369372327], [0.763774618976614, 0.2550690257394217], [0.49543508709194095, 0.4494910647887381]]\n",
      "\n",
      "[[0.24544949526240847, 0.0305517658240603, 0.29350822920609376, 0.29173180659889597], [0.2547109111790089, 0.19109653395226317, 0.3171330429562308, 0.36007908096456903], [0.23623153797016977, 0.29173180659889597, 0.36007908096456903, 0.29350822920609376]]\n",
      "[[0.29350822920609376, 0.24544949526240847, 0.0305517658240603, 0.29173180659889597], [0.29350822920609376, 0.24544949526240847, 0.0305517658240603, 0.29173180659889597], [0.29350822920609376, 0.24544949526240847, 0.0305517658240603, 0.29173180659889597]]\n",
      "[[0.29350822920609376, 0.29173180659889597, 0.24544949526240847, 0.0305517658240603], [0.29350822920609376, 0.29173180659889597, 0.24544949526240847, 0.0305517658240603], [0.29350822920609376, 0.29173180659889597, 0.24544949526240847, 0.0305517658240603]]\n"
     ]
    }
   ],
   "source": [
    "centroids = list()\n",
    "centroids = k_means(datasetMeans, 3, 3)\n",
    "# print(centroids)"
   ]
  },
  {
   "cell_type": "code",
   "execution_count": 346,
   "id": "72aa854a",
   "metadata": {},
   "outputs": [],
   "source": [
    "def get_nearby(train, test_row, points=3, distance_func=2):\n",
    "    # compute distances\n",
    "    distances = [(train_row, calculate_distance(test_row, train_row, distance_func)) for train_row in train]\n",
    "    # sort\n",
    "    distances.sort(key=lambda tup: tup[1])\n",
    "    # get top-k neighbors\n",
    "    neighbors = [distances[i][0]for i in range(num_neighbors)]\n",
    "    \n",
    "    return neighbors"
   ]
  },
  {
   "cell_type": "code",
   "execution_count": 387,
   "id": "01de48f2",
   "metadata": {},
   "outputs": [],
   "source": [
    "def k_means(dataset, num_centroids, maxIterations):\n",
    "    seed(1)\n",
    "    centroids = list()\n",
    "    num_columns = 0\n",
    "    row = dataset[0]\n",
    "    for i in range(len(row)):\n",
    "        num_columns += 1\n",
    "    for _ in range(num_centroids):\n",
    "        sample = [random.random() for _ in range(num_columns)]\n",
    "        centroids.append(sample)\n",
    "    print(centroids)\n",
    "    print()\n",
    "    \n",
    "    m = 0\n",
    "    while m < maxIterations:\n",
    "        newCentroids = list()\n",
    "        distance_func = 4\n",
    "        points = len(datasetMeans)\n",
    "        for i in range(len(centroids)):\n",
    "            neighbors = get_nearby(dataset, centroids[i], points, distance_func)\n",
    "            neighbors.pop()\n",
    "            newPoint = list()\n",
    "            for x in range(len(neighbors)):\n",
    "                sum = 0\n",
    "                for y in range(len(neighbors[x])):\n",
    "                    sum += (neighbors[x])[y]\n",
    "                average = sum / len(neighbors)\n",
    "                newPoint.append(average)\n",
    "            newCentroids.append(newPoint)\n",
    "        centroids = newCentroids\n",
    "        print(centroids)\n",
    "        m += 1\n",
    "    \n",
    "    return centroids\n",
    "    "
   ]
  },
  {
   "cell_type": "markdown",
   "id": "a98f3e9a",
   "metadata": {},
   "source": [
    "## Problem 8"
   ]
  },
  {
   "cell_type": "code",
   "execution_count": 375,
   "id": "8c3913cb",
   "metadata": {},
   "outputs": [
    {
     "name": "stdout",
     "output_type": "stream",
     "text": [
      "k-Means Dataset\n",
      "k =  1\n",
      "[[0.13436424411240122, 0.8474337369372327]]\n",
      "\n",
      "[[0.24544949526240847, 0.0305517658240603, 0.29350822920609376, 0.29173180659889597]]\n",
      "[[0.29350822920609376, 0.24544949526240847, 0.0305517658240603, 0.29173180659889597]]\n",
      "[[0.29350822920609376, 0.29173180659889597, 0.24544949526240847, 0.0305517658240603]]\n",
      "\n",
      "k =  2\n",
      "[[0.13436424411240122, 0.8474337369372327], [0.763774618976614, 0.2550690257394217]]\n",
      "\n",
      "[[0.24544949526240847, 0.0305517658240603, 0.29350822920609376, 0.29173180659889597], [0.2547109111790089, 0.19109653395226317, 0.3171330429562308, 0.36007908096456903]]\n",
      "[[0.29350822920609376, 0.24544949526240847, 0.0305517658240603, 0.29173180659889597], [0.29350822920609376, 0.24544949526240847, 0.0305517658240603, 0.29173180659889597]]\n",
      "[[0.29350822920609376, 0.29173180659889597, 0.24544949526240847, 0.0305517658240603], [0.29350822920609376, 0.29173180659889597, 0.24544949526240847, 0.0305517658240603]]\n",
      "\n",
      "k =  3\n",
      "[[0.13436424411240122, 0.8474337369372327], [0.763774618976614, 0.2550690257394217], [0.49543508709194095, 0.4494910647887381]]\n",
      "\n",
      "[[0.24544949526240847, 0.0305517658240603, 0.29350822920609376, 0.29173180659889597], [0.2547109111790089, 0.19109653395226317, 0.3171330429562308, 0.36007908096456903], [0.23623153797016977, 0.29173180659889597, 0.36007908096456903, 0.29350822920609376]]\n",
      "[[0.29350822920609376, 0.24544949526240847, 0.0305517658240603, 0.29173180659889597], [0.29350822920609376, 0.24544949526240847, 0.0305517658240603, 0.29173180659889597], [0.29350822920609376, 0.24544949526240847, 0.0305517658240603, 0.29173180659889597]]\n",
      "[[0.29350822920609376, 0.29173180659889597, 0.24544949526240847, 0.0305517658240603], [0.29350822920609376, 0.29173180659889597, 0.24544949526240847, 0.0305517658240603], [0.29350822920609376, 0.29173180659889597, 0.24544949526240847, 0.0305517658240603]]\n",
      "\n",
      "k =  4\n",
      "[[0.13436424411240122, 0.8474337369372327], [0.763774618976614, 0.2550690257394217], [0.49543508709194095, 0.4494910647887381], [0.651592972722763, 0.7887233511355132]]\n",
      "\n",
      "[[0.24544949526240847, 0.0305517658240603, 0.29350822920609376, 0.29173180659889597], [0.2547109111790089, 0.19109653395226317, 0.3171330429562308, 0.36007908096456903], [0.23623153797016977, 0.29173180659889597, 0.36007908096456903, 0.29350822920609376], [0.36007908096456903, 0.19109653395226317, 0.2547109111790089, 0.23623153797016977]]\n",
      "[[0.29350822920609376, 0.24544949526240847, 0.0305517658240603, 0.29173180659889597], [0.29350822920609376, 0.24544949526240847, 0.0305517658240603, 0.29173180659889597], [0.29350822920609376, 0.24544949526240847, 0.0305517658240603, 0.29173180659889597], [0.29173180659889597, 0.29350822920609376, 0.23623153797016977, 0.24544949526240847]]\n",
      "[[0.29350822920609376, 0.29173180659889597, 0.24544949526240847, 0.0305517658240603], [0.29350822920609376, 0.29173180659889597, 0.24544949526240847, 0.0305517658240603], [0.29350822920609376, 0.29173180659889597, 0.24544949526240847, 0.0305517658240603], [0.29350822920609376, 0.29173180659889597, 0.24544949526240847, 0.0305517658240603]]\n",
      "\n",
      "k =  5\n",
      "[[0.13436424411240122, 0.8474337369372327], [0.763774618976614, 0.2550690257394217], [0.49543508709194095, 0.4494910647887381], [0.651592972722763, 0.7887233511355132], [0.0938595867742349, 0.02834747652200631]]\n",
      "\n",
      "[[0.24544949526240847, 0.0305517658240603, 0.29350822920609376, 0.29173180659889597], [0.2547109111790089, 0.19109653395226317, 0.3171330429562308, 0.36007908096456903], [0.23623153797016977, 0.29173180659889597, 0.36007908096456903, 0.29350822920609376], [0.36007908096456903, 0.19109653395226317, 0.2547109111790089, 0.23623153797016977], [0.0305517658240603, 0.24544949526240847, 0.29350822920609376, 0.29173180659889597]]\n",
      "[[0.29350822920609376, 0.24544949526240847, 0.0305517658240603, 0.29173180659889597], [0.29350822920609376, 0.24544949526240847, 0.0305517658240603, 0.29173180659889597], [0.29350822920609376, 0.24544949526240847, 0.0305517658240603, 0.29173180659889597], [0.29173180659889597, 0.29350822920609376, 0.23623153797016977, 0.24544949526240847], [0.0305517658240603, 0.24544949526240847, 0.29350822920609376, 0.29173180659889597]]\n",
      "[[0.29350822920609376, 0.29173180659889597, 0.24544949526240847, 0.0305517658240603], [0.29350822920609376, 0.29173180659889597, 0.24544949526240847, 0.0305517658240603], [0.29350822920609376, 0.29173180659889597, 0.24544949526240847, 0.0305517658240603], [0.29350822920609376, 0.29173180659889597, 0.24544949526240847, 0.0305517658240603], [0.0305517658240603, 0.24544949526240847, 0.29350822920609376, 0.29173180659889597]]\n",
      "\n"
     ]
    }
   ],
   "source": [
    "print(\"k-Means Dataset\")\n",
    "for num_centroids in range(1, 6):\n",
    "    print(\"k = \", num_centroids)\n",
    "    centroids = k_means(datasetMeans, num_centroids, 3)\n",
    "    print()"
   ]
  },
  {
   "cell_type": "markdown",
   "id": "66982be0",
   "metadata": {},
   "source": [
    "## Problem 9"
   ]
  },
  {
   "cell_type": "code",
   "execution_count": 377,
   "id": "9851e6cc",
   "metadata": {},
   "outputs": [
    {
     "data": {
      "image/png": "[encoded data removed]",
      "text/plain": [
       "<Figure size 432x288 with 1 Axes>"
      ]
     },
     "metadata": {
      "needs_background": "light"
     },
     "output_type": "display_data"
    }
   ],
   "source": [
    "import matplotlib.pyplot as plt\n",
    "xCoord = list()\n",
    "yCoord = list()\n",
    "for i in range(0, len(datasetMeans)):\n",
    "    xCoord.append(datasetMeans[i][0])\n",
    "    yCoord.append(datasetMeans[i][1])\n",
    "plt.plot(xCoord, yCoord, 'o')\n",
    "plt.show()"
   ]
  }
 ],
 "metadata": {
  "kernelspec": {
   "display_name": "Python 3",
   "language": "python",
   "name": "python3"
  },
  "language_info": {
   "codemirror_mode": {
    "name": "ipython",
    "version": 3
   },
   "file_extension": ".py",
   "mimetype": "text/x-python",
   "name": "python",
   "nbconvert_exporter": "python",
   "pygments_lexer": "ipython3",
   "version": "3.8.8"
  }
 },
 "nbformat": 4,
 "nbformat_minor": 5
}
